{
 "cells": [
  {
   "cell_type": "markdown",
   "id": "58763db3",
   "metadata": {},
   "source": [
    "# Data Science Tools and Ecosystem"
   ]
  },
  {
   "cell_type": "markdown",
   "id": "5c152ce1",
   "metadata": {},
   "source": [
    "In this notebook, Data Science Tools and Ecosystem are summarized."
   ]
  },
  {
   "cell_type": "markdown",
   "id": "9fb01fbe",
   "metadata": {},
   "source": [
    "#### Objectives:\n",
    "* Popular languages for Data Science\n",
    "* Commonly used libraries for Data Science\n",
    "* Data Science Tools\n",
    "* Examples of evaluating arithmetic expressions"
   ]
  },
  {
   "cell_type": "markdown",
   "id": "9000b862",
   "metadata": {},
   "source": [
    "**Some of the popular languages that Data Scientists use are:**\n",
    "1. Python\n",
    "2. R\n",
    "3. SQL\n",
    "4. Java\n",
    "5. Scala\n",
    "6. C++\n",
    "7. JS\n",
    "8. Julia"
   ]
  },
  {
   "cell_type": "markdown",
   "id": "c48e3d6e",
   "metadata": {},
   "source": [
    "**Some of the commonly used libraries used by Data Scientists include:**\n",
    "1. Scientifics Computing:\n",
    "  - Pandas\n",
    "  - NumPy\n",
    "2. Visualisation:\n",
    "  - Matplotlib\n",
    "  - Seaborn\n",
    "3. Machine Learning and deep learning:\n",
    "  - Scikit-learn\n",
    "  - Keras\n",
    "4. Deep Learning:\n",
    "  - TensorFlow\n",
    "  - PyTorch\n",
    " "
   ]
  },
  {
   "cell_type": "markdown",
   "id": "0cb2e799",
   "metadata": {},
   "source": [
    "**Data Science Tools**\n",
    "|Data Science Tools |\n",
    "|-------------------|\n",
    "|Jupyter Notebook|\n",
    "|Jupyter Lab|\n",
    "|RStudio|\n",
    "|Apache Zeppelin|"
   ]
  },
  {
   "cell_type": "markdown",
   "id": "7a04fb87",
   "metadata": {},
   "source": [
    "**Below are a few examples of evaluating arithmetic expressions in Python**"
   ]
  },
  {
   "cell_type": "code",
   "execution_count": 3,
   "id": "4cbfd82f",
   "metadata": {},
   "outputs": [
    {
     "data": {
      "text/plain": [
       "17"
      ]
     },
     "execution_count": 3,
     "metadata": {},
     "output_type": "execute_result"
    }
   ],
   "source": [
    "# This a simple arithmetic expression to mutiply then add integers\n",
    "(3*4)+5"
   ]
  },
  {
   "cell_type": "code",
   "execution_count": 6,
   "id": "8780b3c6",
   "metadata": {},
   "outputs": [
    {
     "data": {
      "text/plain": [
       "3.3333333333333335"
      ]
     },
     "execution_count": 6,
     "metadata": {},
     "output_type": "execute_result"
    }
   ],
   "source": [
    "# This will convert 200 minutes to hours by diving by 60\n",
    "200/60"
   ]
  },
  {
   "cell_type": "markdown",
   "id": "03bef150",
   "metadata": {},
   "source": [
    "## Author\n",
    "Valentyna Rudenko"
   ]
  },
  {
   "cell_type": "code",
   "execution_count": null,
   "id": "59320c5c",
   "metadata": {},
   "outputs": [],
   "source": []
  }
 ],
 "metadata": {
  "kernelspec": {
   "display_name": "Python 3 (ipykernel)",
   "language": "python",
   "name": "python3"
  },
  "language_info": {
   "codemirror_mode": {
    "name": "ipython",
    "version": 3
   },
   "file_extension": ".py",
   "mimetype": "text/x-python",
   "name": "python",
   "nbconvert_exporter": "python",
   "pygments_lexer": "ipython3",
   "version": "3.10.9"
  }
 },
 "nbformat": 4,
 "nbformat_minor": 5
}
